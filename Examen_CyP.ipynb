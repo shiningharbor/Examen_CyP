{
  "nbformat": 4,
  "nbformat_minor": 0,
  "metadata": {
    "colab": {
      "name": "Examen_CyP.ipynb",
      "provenance": [],
      "authorship_tag": "ABX9TyMLClYr33Dm2UiUoUzbbo+W",
      "include_colab_link": true
    },
    "kernelspec": {
      "name": "python3",
      "display_name": "Python 3"
    }
  },
  "cells": [
    {
      "cell_type": "markdown",
      "metadata": {
        "id": "view-in-github",
        "colab_type": "text"
      },
      "source": [
        "<a href=\"https://colab.research.google.com/github/shiningharbor/Examen_CyP/blob/main/Examen_CyP.ipynb\" target=\"_parent\"><img src=\"https://colab.research.google.com/assets/colab-badge.svg\" alt=\"Open In Colab\"/></a>"
      ]
    },
    {
      "cell_type": "code",
      "metadata": {
        "colab": {
          "base_uri": "https://localhost:8080/"
        },
        "id": "1odUeKi5DD86",
        "outputId": "2684c9fc-2d33-4bfa-ce27-8110b96b608b"
      },
      "source": [
        "# 1\r\n",
        "Alumno = ['NP']\r\n",
        "cal = 0\r\n",
        "cal=float(input(\"Introdusca la calificacion del alumno: \"))\r\n",
        "if (cal < 0):\r\n",
        "  print(\"Este numero no es valido\")\r\n",
        "\r\n",
        "if (cal > 10):\r\n",
        "  print(\"Este numero no es valido\")\r\n",
        "\r\n",
        "else:\r\n",
        "  if (cal < 8):\r\n",
        "    Alumno[0]= 'Rebrobatoria'\r\n",
        "  else:\r\n",
        "    Alumno[0]= 'Abrobatoria'\r\n",
        "  print(f\"La calificacion del alumno es {Alumno[0]}\")"
      ],
      "execution_count": 74,
      "outputs": [
        {
          "output_type": "stream",
          "text": [
            "Introdusca la calificacion del alumno: 7\n",
            "La calificacion del alumno es Rebrobatoria\n"
          ],
          "name": "stdout"
        }
      ]
    },
    {
      "cell_type": "markdown",
      "metadata": {
        "id": "L5BDcx8JNDPm"
      },
      "source": [
        "# Listas\r\n",
        "1. Una lista en Python es una estructura de datos formada por una secuencia ordenada de objetos.\r\n",
        "1. Es una estructura de datos Líneal que va de 0 o n elementos.\r\n",
        "1. Pueden ser de diferente tipo de dato.\r\n",
        "1. Pueden ser anidados, listas de listas. \r\n",
        "1. Su selector es de la forma: [int].\r\n",
        "1. Son Muteables."
      ]
    },
    {
      "cell_type": "code",
      "metadata": {
        "colab": {
          "base_uri": "https://localhost:8080/"
        },
        "id": "a6XGn_FfNhZU",
        "outputId": "953e1196-e713-44b7-8a30-8bfda0d5c298"
      },
      "source": [
        "#2\r\n",
        "Alumnos = [\"Emiliano\", \"Sergio\", \"Diego\", \"Miguel\"]\r\n",
        "print(Alumnos)"
      ],
      "execution_count": 64,
      "outputs": [
        {
          "output_type": "stream",
          "text": [
            "['Emiliano', 'Sergio', 'Diego', 'Miguel']\n"
          ],
          "name": "stdout"
        }
      ]
    },
    {
      "cell_type": "code",
      "metadata": {
        "colab": {
          "base_uri": "https://localhost:8080/"
        },
        "id": "n5eHoBCIOtOd",
        "outputId": "4b928e58-1751-44bb-8df2-7b508484931a"
      },
      "source": [
        "#3\r\n",
        "tabla = [\"5 * 1 = 5\", \"5 * 2 = 10\", \"5 * 3 = 15\", \"5 * 4 = 20\", \"5 * 5 = 25\", \"5 * 6 = 30\", \"5 * 7 = 35\", \"5 * 8 = 40\", \"5 * 9 = 45\", \"5 * 10 = 50\"]\r\n",
        "for n in tabla:\r\n",
        "  print(n)"
      ],
      "execution_count": 70,
      "outputs": [
        {
          "output_type": "stream",
          "text": [
            "5 * 1 = 5\n",
            "5 * 2 = 10\n",
            "5 * 3 = 15\n",
            "5 * 4 = 20\n",
            "5 * 5 = 25\n",
            "5 * 6 = 30\n",
            "5 * 7 = 35\n",
            "5 * 8 = 40\n",
            "5 * 9 = 45\n",
            "5 * 10 = 50\n"
          ],
          "name": "stdout"
        }
      ]
    },
    {
      "cell_type": "code",
      "metadata": {
        "colab": {
          "base_uri": "https://localhost:8080/"
        },
        "id": "lyBaTHhRRj9W",
        "outputId": "a187dcd0-adb5-403a-a9f1-678832e432f3"
      },
      "source": [
        "#4\r\n",
        "prim = 0\r\n",
        "seg = 0\r\n",
        "print(\"Ingrese nombre de dos alumnos\")\r\n",
        "prim = input(\"Primero Alumno: \")\r\n",
        "seg = input(\"Segundo alumno Alumno: \")\r\n",
        "prim1 = prim[0]\r\n",
        "seg1 = seg[0]\r\n",
        "p = len(prim)\r\n",
        "s = len(seg)\r\n",
        "ultima_prim = prim[p -1]\r\n",
        "ultima_seg = seg[s -1]\r\n",
        "if (prim1 == seg1):\r\n",
        "  if (ultima_prim == ultima_seg):\r\n",
        "    print(\"Coincidencia\")\r\n",
        "else :\r\n",
        "  print(\"No Coincidencia\")\r\n"
      ],
      "execution_count": 101,
      "outputs": [
        {
          "output_type": "stream",
          "text": [
            "Ingrese nombre de dos alumnos\n",
            "Primero Alumno: Emiliano\n",
            "Segundo alumno Alumno: Ernesto\n",
            "Coincidencia\n"
          ],
          "name": "stdout"
        }
      ]
    },
    {
      "cell_type": "code",
      "metadata": {
        "id": "7p3BV2AsX6j2"
      },
      "source": [
        "# 5\r\n",
        "num=(100, 99, 98,97,96,95,94,93,92,91,89,88,87,86,85,84,83,82,81,80,79,78,77,76,75,74,73,72,71,70,69,68,67,66,65,64,63,62,61,60,59,58,57,56,55,54,53,52,52,51,50,49,48,47,46,45,44,43,42,41,40,39,38,37,36,35,34,33,32,31,30,29,28,27,26,25,24,23,22,21,20,19,18,17,16,15,14,13,12,11,10,9,8,7,6,5,4,3,2,1)\r\n",
        "for n in num:\r\n",
        "  print(n)"
      ],
      "execution_count": null,
      "outputs": []
    },
    {
      "cell_type": "code",
      "metadata": {
        "colab": {
          "base_uri": "https://localhost:8080/"
        },
        "id": "LHIFuAOJZIVA",
        "outputId": "a7c866a6-2938-46a1-aa77-c730d6d69b8b"
      },
      "source": [
        "#6\r\n",
        "num1 = 0\r\n",
        "num2 = 0\r\n",
        "print(\"Ingrese dos numeros\")\r\n",
        "num1 = input(\"Primero Numero: \")\r\n",
        "num2 = input(\"Segundo Numero: \")\r\n",
        "if (num1 == num2):\r\n",
        "  print(\"Son numeros iguales\")\r\n",
        "else:\r\n",
        "  if (num1 > num2):\r\n",
        "    print(\"El primer numero es mayor\")\r\n",
        "  else:\r\n",
        "    print(\"El primer numero es menor\")\r\n"
      ],
      "execution_count": 106,
      "outputs": [
        {
          "output_type": "stream",
          "text": [
            "Ingrese dos numeros\n",
            "Primero Numero: 2\n",
            "Segundo Numero: 1\n",
            "El primer numero es mayor\n"
          ],
          "name": "stdout"
        }
      ]
    },
    {
      "cell_type": "code",
      "metadata": {
        "colab": {
          "base_uri": "https://localhost:8080/"
        },
        "id": "LVnnKBtIaWVk",
        "outputId": "2c38105d-80dc-4102-da52-c06ff4c31e7b"
      },
      "source": [
        "#7\r\n",
        "A = \"Partido Rojo\"\r\n",
        "B = \"Partido Verde\"\r\n",
        "C = \"Partido Azul\"\r\n",
        "can=input(\"Ingrese el candidato a votar: \")\r\n",
        "if (can != A):\r\n",
        "  if (can != B):\r\n",
        "    if (can != C):\r\n",
        "      print(\"No ha seleccionado un candidato valido\")\r\n",
        "else:\r\n",
        "  print(f\"Usted a votado por el {can}\")"
      ],
      "execution_count": 108,
      "outputs": [
        {
          "output_type": "stream",
          "text": [
            "Ingrese el candidato a votar: H\n",
            "No ha seleccionado un candidato valido\n"
          ],
          "name": "stdout"
        }
      ]
    },
    {
      "cell_type": "code",
      "metadata": {
        "colab": {
          "base_uri": "https://localhost:8080/"
        },
        "id": "WonaLMJwcHfX",
        "outputId": "2cab020a-eb5c-4bdb-fd01-1173ad0f0526"
      },
      "source": [
        "#8\r\n",
        "monto = 0\r\n",
        "monto=float(input(\"Ingrese el dinero a invertir: \"))\r\n",
        "monto_final= monto * 1.03\r\n",
        "print(f\"Su monto final sera: {monto_final}\")"
      ],
      "execution_count": 109,
      "outputs": [
        {
          "output_type": "stream",
          "text": [
            "Ingrese el dinero a invertir: 100\n",
            "Su monto final sera: 103.0\n"
          ],
          "name": "stdout"
        }
      ]
    },
    {
      "cell_type": "code",
      "metadata": {
        "colab": {
          "base_uri": "https://localhost:8080/"
        },
        "id": "lUoh4FtudInW",
        "outputId": "36ba25ff-94a8-4c71-8041-10342f5fe24f"
      },
      "source": [
        "#9\r\n",
        "carro1 = { 'Marca' : 'BMW', \r\n",
        "          'Modelo':'GT', \r\n",
        "          'Color': 'Gris',\r\n",
        "          'Matricula':'GFD-7D5', \r\n",
        "          'Precio': '200,000'}\r\n",
        "carro2 = { 'Marca' : 'Honda', \r\n",
        "          'Modelo':'Tsuru', \r\n",
        "          'Color': 'Azul',\r\n",
        "          'Matricula':'SDF-475', \r\n",
        "          'Precio': '20,000'}\r\n",
        "carro3 = { 'Marca' : 'TOYOTA', \r\n",
        "          'Modelo':'CITY', \r\n",
        "          'Color': 'Negro',\r\n",
        "          'Matricula':'G5D-SD5', \r\n",
        "          'Precio': '157,000'}\r\n",
        "carro4 = { 'Marca' : 'Susuky', \r\n",
        "          'Modelo':'Supra', \r\n",
        "          'Color': 'Azul',\r\n",
        "          'Matricula':'GSD-785', \r\n",
        "          'Precio': '178,000'}\r\n",
        "carro5 = { 'Marca' : 'BMW', \r\n",
        "          'Modelo':'GT', \r\n",
        "          'Color': 'Verde',\r\n",
        "          'Matricula':'AAD8-7S5', \r\n",
        "          'Precio': '200,000'}\r\n",
        "print(carro1)\r\n",
        "print(carro2)\r\n",
        "print(carro3)\r\n",
        "print(carro4)\r\n",
        "print(carro5)"
      ],
      "execution_count": 111,
      "outputs": [
        {
          "output_type": "stream",
          "text": [
            "{'Marca': 'BMW', 'Modelo': 'GT', 'Color': 'Gris', 'Matricula': 'GFD-7D5', 'Precio': '200,000'}\n",
            "{'Marca': 'Honda', 'Modelo': 'Tsuru', 'Color': 'Azul', 'Matricula': 'SDF-475', 'Precio': '20,000'}\n",
            "{'Marca': 'TOYOTA', 'Modelo': 'CITY', 'Color': 'Negro', 'Matricula': 'G5D-SD5', 'Precio': '157,000'}\n",
            "{'Marca': 'Susuky', 'Modelo': 'Supra', 'Color': 'Azul', 'Matricula': 'GSD-785', 'Precio': '178,000'}\n",
            "{'Marca': 'BMW', 'Modelo': 'GT', 'Color': 'Verde', 'Matricula': 'AAD8-7S5', 'Precio': '200,000'}\n"
          ],
          "name": "stdout"
        }
      ]
    },
    {
      "cell_type": "code",
      "metadata": {
        "colab": {
          "base_uri": "https://localhost:8080/"
        },
        "id": "jP45gFApf53G",
        "outputId": "90e0a680-c9f2-428a-eea8-54b7ad5cb62f"
      },
      "source": [
        "#10\r\n",
        "letra= input(\"Ingresa una letra: \")\r\n",
        "if len(letra) >1:\r\n",
        "  print(\"Ingrese solo ingresar una letra\")\r\n",
        "else:\r\n",
        "  letra = letra.upper()\r\n",
        "  if letra == \"A\" or letra == \"E\" or letra == \"I\" or letra == \"O\" or letra == \"U\" :\r\n",
        "    print(\"Es una vocal\")\r\n",
        "  else:\r\n",
        "    print(\"No es una vocal\")"
      ],
      "execution_count": 114,
      "outputs": [
        {
          "output_type": "stream",
          "text": [
            "Ingresa una letra: a\n",
            "Es una vocal\n"
          ],
          "name": "stdout"
        }
      ]
    }
  ]
}